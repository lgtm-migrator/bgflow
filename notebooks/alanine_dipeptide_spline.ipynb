{
 "cells": [
  {
   "cell_type": "markdown",
   "id": "b9219009",
   "metadata": {},
   "source": [
    "# Alanine Dipeptide Example with High-Level Builder API\n",
    "\n",
    "This tutorial improves on the basic alanine example in various ways:\n",
    "\n",
    "1. It uses neural spline transforms, which are much more expressive than affine transforms. These are implemented in the third-party package `nflows`. You need to `pip install nflows` into your conda environment in order to run this notebook.\n",
    "\n",
    "2. It respects the domains of the ICs and the periodicity of torsions.\n",
    "\n",
    "3. It transforms internal coordinates in a physics-informed manner. Concretely, the \"slow\" degrees of freedom, torsions and \"fixed atoms\", are generated first. Angles and bonds are conditioned on these slow degrees of freedom and added later in an autoregressive manner.\n",
    "\n",
    "All that stuff happens under the hood of a high-level builder API."
   ]
  },
  {
   "cell_type": "code",
   "execution_count": 1,
   "id": "1bf3896d",
   "metadata": {},
   "outputs": [
    {
     "name": "stdout",
     "output_type": "stream",
     "text": [
      "Using downloaded and verified file: /tmp/alanine-dipeptide-nowater.pdb\n"
     ]
    },
    {
     "data": {
      "application/vnd.jupyter.widget-view+json": {
       "model_id": "8920143c845c4255a3ea42254d792e22",
       "version_major": 2,
       "version_minor": 0
      },
      "text/plain": []
     },
     "metadata": {},
     "output_type": "display_data"
    }
   ],
   "source": [
    "import alanine_dipeptide_basics as basic\n",
    "import torch\n",
    "import bgflow as bg"
   ]
  },
  {
   "cell_type": "code",
   "execution_count": 2,
   "id": "3cd7b8bf",
   "metadata": {},
   "outputs": [],
   "source": [
    "# a brief check if this module is the main executable (or imported)\n",
    "main = (__name__ == \"__main__\")"
   ]
  },
  {
   "cell_type": "markdown",
   "id": "1f660ad4",
   "metadata": {},
   "source": [
    "## Define Boltzmann Generator"
   ]
  },
  {
   "cell_type": "markdown",
   "id": "92213a35",
   "metadata": {},
   "source": [
    "Parse the prior dimensions etc. from the coordinate transform."
   ]
  },
  {
   "cell_type": "code",
   "execution_count": 3,
   "id": "7568fa9f",
   "metadata": {},
   "outputs": [],
   "source": [
    "shape_info = bg.ShapeDictionary.from_coordinate_transform(basic.coordinate_transform)"
   ]
  },
  {
   "cell_type": "code",
   "execution_count": 4,
   "id": "0041ecba",
   "metadata": {},
   "outputs": [],
   "source": [
    "builder = bg.BoltzmannGeneratorBuilder(\n",
    "    shape_info, \n",
    "    target=basic.target_energy, \n",
    "    device=basic.device, \n",
    "    dtype=basic.dtype\n",
    ")"
   ]
  },
  {
   "cell_type": "markdown",
   "id": "66c7fe79",
   "metadata": {},
   "source": [
    "The builder class uses reasonable default choices for the transforms and conditioner networks but it's customizable. If you want to tinker with the settings, take a look at the documentation.\n",
    "\n",
    "For example each `add_condition` call can take various keyword arguments that specify the depth and width of the conditioner network, the transformer type, etc. To change the dimension and number of hidden layers in a conditioner, try something like `builder.add_condition(TORSION, on=FIXED, hidden=(32,64,32))`."
   ]
  },
  {
   "cell_type": "code",
   "execution_count": 5,
   "id": "7812f58a",
   "metadata": {},
   "outputs": [],
   "source": [
    "from bgflow import TORSIONS, FIXED, BONDS, ANGLES"
   ]
  },
  {
   "cell_type": "code",
   "execution_count": 6,
   "id": "b62f31bc",
   "metadata": {},
   "outputs": [],
   "source": [
    "for i in range(4):\n",
    "    builder.add_condition(TORSIONS, on=FIXED)\n",
    "    builder.add_condition(FIXED, on=TORSIONS)\n",
    "for i in range(2):\n",
    "    builder.add_condition(BONDS, on=ANGLES)\n",
    "    builder.add_condition(ANGLES, on=BONDS)\n",
    "builder.add_condition(ANGLES, on=(TORSIONS, FIXED))\n",
    "builder.add_condition(BONDS, on=(ANGLES, TORSIONS, FIXED))\n",
    "builder.add_map_to_ic_domains()\n",
    "builder.add_map_to_cartesian(basic.coordinate_transform)\n",
    "generator = builder.build_generator()"
   ]
  },
  {
   "cell_type": "code",
   "execution_count": 7,
   "id": "86031aa3",
   "metadata": {},
   "outputs": [
    {
     "data": {
      "text/plain": [
       "tensor([[ 640620.2500],\n",
       "        [ 508778.7188],\n",
       "        [ 382282.2812],\n",
       "        [ 544364.1250],\n",
       "        [ 553774.8125],\n",
       "        [1187378.7500],\n",
       "        [ 579557.5000],\n",
       "        [ 540659.0625],\n",
       "        [ 627307.0625],\n",
       "        [ 440060.5312]], device='cuda:0', grad_fn=<SubBackward0>)"
      ]
     },
     "execution_count": 7,
     "metadata": {},
     "output_type": "execute_result"
    }
   ],
   "source": [
    "# TEST\n",
    "# play forward and backward\n",
    "samples = generator.sample(2)\n",
    "energy = generator.energy(samples)\n",
    "generator.kldiv(10)"
   ]
  },
  {
   "cell_type": "markdown",
   "id": "1324af07",
   "metadata": {},
   "source": [
    "## Train"
   ]
  },
  {
   "cell_type": "code",
   "execution_count": 8,
   "id": "17405734",
   "metadata": {},
   "outputs": [],
   "source": [
    "nll_optimizer = torch.optim.Adam(generator.parameters(), lr=1e-3)\n",
    "nll_trainer = bg.KLTrainer(\n",
    "    generator, \n",
    "    optim=nll_optimizer,\n",
    "    train_energy=False\n",
    ")"
   ]
  },
  {
   "cell_type": "code",
   "execution_count": 9,
   "id": "64a68c00",
   "metadata": {},
   "outputs": [
    {
     "name": "stdout",
     "output_type": "stream",
     "text": [
      "1\tNLL: -13.2985\t\n",
      "101\tNLL: -196.1384\t\n",
      "201\tNLL: -203.5495\t\n",
      "301\tNLL: -205.2721\t\n",
      "401\tNLL: -205.7857\t\n",
      "501\tNLL: -205.7383\t\n",
      "601\tNLL: -206.5627\t\n",
      "701\tNLL: -205.3726\t\n",
      "801\tNLL: -208.3383\t\n",
      "901\tNLL: -207.7665\t\n"
     ]
    }
   ],
   "source": [
    "if main:\n",
    "    nll_trainer.train(\n",
    "        n_iter=1000, \n",
    "        data=basic.training_data,\n",
    "        batchsize=128,\n",
    "        n_print=100, \n",
    "        w_energy=0.0\n",
    "    )"
   ]
  },
  {
   "cell_type": "markdown",
   "id": "e608f537",
   "metadata": {},
   "source": [
    "## Plot"
   ]
  },
  {
   "cell_type": "code",
   "execution_count": 10,
   "id": "f5929317",
   "metadata": {},
   "outputs": [],
   "source": [
    "from matplotlib import pyplot as plt"
   ]
  },
  {
   "cell_type": "code",
   "execution_count": 11,
   "id": "1c7246b0",
   "metadata": {},
   "outputs": [
    {
     "data": {
      "image/png": "[encoded data removed]",
      "text/plain": [
       "<Figure size 432x216 with 3 Axes>"
      ]
     },
     "metadata": {
      "needs_background": "light"
     },
     "output_type": "display_data"
    }
   ],
   "source": [
    "if main:\n",
    "    \n",
    "    n_samples = 10000\n",
    "    samples = generator.sample(n_samples)\n",
    "\n",
    "    fig, axes = plt.subplots(1, 2, figsize=(6,3))\n",
    "    fig.tight_layout()\n",
    "\n",
    "    basic.plot_phi_psi(axes[0], samples, basic.system)\n",
    "    basic.plot_energies(axes[1], samples, basic.target_energy, basic.test_data)\n",
    "\n",
    "    del samples"
   ]
  },
  {
   "cell_type": "code",
   "execution_count": null,
   "id": "b0ea3604",
   "metadata": {},
   "outputs": [],
   "source": []
  }
 ],
 "metadata": {
  "kernelspec": {
   "display_name": "Python 3",
   "language": "python",
   "name": "python3"
  },
  "language_info": {
   "codemirror_mode": {
    "name": "ipython",
    "version": 3
   },
   "file_extension": ".py",
   "mimetype": "text/x-python",
   "name": "python",
   "nbconvert_exporter": "python",
   "pygments_lexer": "ipython3",
   "version": "3.9.4"
  }
 },
 "nbformat": 4,
 "nbformat_minor": 5
}
