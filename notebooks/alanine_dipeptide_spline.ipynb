{
 "cells": [
  {
   "cell_type": "markdown",
   "id": "4610263e",
   "metadata": {},
   "source": [
    "# Alanine Dipeptide Example with High-Level Builder API\n",
    "\n",
    "This tutorial improves on the basic alanine example in various ways:\n",
    "\n",
    "1. It uses neural spline transforms, which are much more expressive than affine transforms. These are implemented in the third-party package `nflows`. You need to `pip install nflows` into your conda environment in order to run this notebook.\n",
    "\n",
    "2. It respects the domains of the ICs and the periodicity of torsions.\n",
    "\n",
    "3. It transforms internal coordinates in a physics-informed manner. Concretely, the \"slow\" degrees of freedom, torsions and \"fixed atoms\", are generated first. Angles and bonds are conditioned on these slow degrees of freedom and added later in an autoregressive manner.\n",
    "\n",
    "All that stuff happens under the hood of a high-level builder API."
   ]
  },
  {
   "cell_type": "code",
   "execution_count": 1,
   "id": "bd4717c9",
   "metadata": {},
   "outputs": [
    {
     "name": "stdout",
     "output_type": "stream",
     "text": [
      "Using downloaded and verified file: /tmp/alanine-dipeptide-nowater.pdb\n"
     ]
    },
    {
     "data": {
      "application/vnd.jupyter.widget-view+json": {
       "model_id": "fe867cf2fbc84e24972a5d16987a32a6",
       "version_major": 2,
       "version_minor": 0
      },
      "text/plain": []
     },
     "metadata": {},
     "output_type": "display_data"
    }
   ],
   "source": [
    "import alanine_dipeptide_basics as basic\n",
    "import torch\n",
    "import bgflow as bg"
   ]
  },
  {
   "cell_type": "code",
   "execution_count": 2,
   "id": "bfe5763c",
   "metadata": {},
   "outputs": [],
   "source": [
    "# a brief check if this module is the main executable (or imported)\n",
    "main = (__name__ == \"__main__\")"
   ]
  },
  {
   "cell_type": "markdown",
   "id": "b349b8f7",
   "metadata": {},
   "source": [
    "## Define Boltzmann Generator"
   ]
  },
  {
   "cell_type": "markdown",
   "id": "2c18b000",
   "metadata": {},
   "source": [
    "Parse the prior dimensions etc. from the coordinate transform."
   ]
  },
  {
   "cell_type": "code",
   "execution_count": 3,
   "id": "b5743c32",
   "metadata": {},
   "outputs": [],
   "source": [
    "shape_info = bg.ShapeDictionary.from_coordinate_transform(basic.coordinate_transform)"
   ]
  },
  {
   "cell_type": "code",
   "execution_count": 4,
   "id": "dca01715",
   "metadata": {},
   "outputs": [],
   "source": [
    "builder = bg.BoltzmannGeneratorBuilder(\n",
    "    shape_info, \n",
    "    target=basic.target_energy, \n",
    "    device=basic.device, \n",
    "    dtype=basic.dtype\n",
    ")"
   ]
  },
  {
   "cell_type": "markdown",
   "id": "625b6898",
   "metadata": {},
   "source": [
    "The builder class uses reasonable default choices for the transforms and conditioner networks but it's customizable. If you want to tinker with the settings, take a look at the documentation.\n",
    "\n",
    "For example each `add_condition` call can take various keyword arguments that specify the depth and width of the conditioner network, the transformer type, etc. To change the dimension and number of hidden layers in a conditioner, try something like `builder.add_condition(TORSION, on=FIXED, hidden=(32,64,32))`."
   ]
  },
  {
   "cell_type": "code",
   "execution_count": 5,
   "id": "7580399a",
   "metadata": {},
   "outputs": [],
   "source": [
    "from bgflow import TORSIONS, FIXED, BONDS, ANGLES"
   ]
  },
  {
   "cell_type": "code",
   "execution_count": 6,
   "id": "3cef0706",
   "metadata": {},
   "outputs": [],
   "source": [
    "for i in range(4):\n",
    "    builder.add_condition(TORSIONS, on=FIXED)\n",
    "    builder.add_condition(FIXED, on=TORSIONS)\n",
    "for i in range(2):\n",
    "    builder.add_condition(BONDS, on=ANGLES)\n",
    "    builder.add_condition(ANGLES, on=BONDS)\n",
    "builder.add_condition(ANGLES, on=(TORSIONS, FIXED))\n",
    "builder.add_condition(BONDS, on=(ANGLES, TORSIONS, FIXED))\n",
    "builder.add_map_to_ic_domains()\n",
    "builder.add_map_to_cartesian(basic.coordinate_transform)\n",
    "generator = builder.build_generator()"
   ]
  },
  {
   "cell_type": "code",
   "execution_count": 7,
   "id": "4020e753",
   "metadata": {},
   "outputs": [
    {
     "data": {
      "text/plain": [
       "tensor([[8.0161e+05],\n",
       "        [8.9508e+06],\n",
       "        [9.0616e+05],\n",
       "        [4.3331e+05],\n",
       "        [3.2643e+09],\n",
       "        [1.7117e+05],\n",
       "        [5.5652e+05],\n",
       "        [6.7342e+05],\n",
       "        [7.9573e+05],\n",
       "        [1.2503e+06]], device='cuda:0', grad_fn=<SubBackward0>)"
      ]
     },
     "execution_count": 7,
     "metadata": {},
     "output_type": "execute_result"
    }
   ],
   "source": [
    "# TEST\n",
    "# play forward and backward\n",
    "samples = generator.sample(2)\n",
    "energy = generator.energy(samples)\n",
    "generator.kldiv(10)"
   ]
  },
  {
   "cell_type": "markdown",
   "id": "89e571f5",
   "metadata": {},
   "source": [
    "## Train"
   ]
  },
  {
   "cell_type": "code",
   "execution_count": 8,
   "id": "f33c3d77",
   "metadata": {},
   "outputs": [],
   "source": [
    "nll_optimizer = torch.optim.Adam(generator.parameters(), lr=1e-3)\n",
    "nll_trainer = bg.KLTrainer(\n",
    "    generator, \n",
    "    optim=nll_optimizer,\n",
    "    train_energy=False\n",
    ")"
   ]
  },
  {
   "cell_type": "code",
   "execution_count": 9,
   "id": "0fc346f7",
   "metadata": {},
   "outputs": [
    {
     "name": "stdout",
     "output_type": "stream",
     "text": [
      "1\tNLL: -11.3866\t\n",
      "101\tNLL: -198.9955\t\n",
      "201\tNLL: -187.2862\t\n",
      "301\tNLL: -200.9270\t\n",
      "401\tNLL: -200.4536\t\n",
      "501\tNLL: -205.4107\t\n",
      "601\tNLL: -203.6648\t\n",
      "701\tNLL: -206.4017\t\n",
      "801\tNLL: -206.3605\t\n",
      "901\tNLL: -207.6435\t\n"
     ]
    }
   ],
   "source": [
    "if main:\n",
    "    nll_trainer.train(\n",
    "        n_iter=1000, \n",
    "        data=basic.training_data,\n",
    "        batchsize=128,\n",
    "        n_print=100, \n",
    "        w_energy=0.0\n",
    "    )"
   ]
  },
  {
   "cell_type": "markdown",
   "id": "4ff998e3",
   "metadata": {},
   "source": [
    "# Save and Load"
   ]
  },
  {
   "cell_type": "code",
   "execution_count": 10,
   "id": "def7c260",
   "metadata": {},
   "outputs": [],
   "source": [
    "#torch.save(generator.state_dict(), \"saved_model.pt\")"
   ]
  },
  {
   "cell_type": "code",
   "execution_count": 11,
   "id": "7fd32651",
   "metadata": {},
   "outputs": [],
   "source": [
    "#generator.load_state_dict(torch.load(\"saved_model.pt\"))"
   ]
  },
  {
   "cell_type": "markdown",
   "id": "a123ffb2",
   "metadata": {},
   "source": [
    "## Plot"
   ]
  },
  {
   "cell_type": "code",
   "execution_count": 12,
   "id": "2a157794",
   "metadata": {},
   "outputs": [],
   "source": [
    "from matplotlib import pyplot as plt"
   ]
  },
  {
   "cell_type": "code",
   "execution_count": 13,
   "id": "74b9fa0c",
   "metadata": {},
   "outputs": [
    {
     "name": "stderr",
     "output_type": "stream",
     "text": [
      "/srv/public/kraemea88/coding/bgflow/bgflow/nn/flow/crd_transform/ic.py:46: UserWarning: singular norm in xyz reconstruction\n",
      "  warnings.warn(\"singular norm in xyz reconstruction\")\n",
      "/srv/public/kraemea88/coding/bgflow/bgflow/nn/flow/crd_transform/ic.py:56: UserWarning: singular norm in xyz reconstruction\n",
      "  warnings.warn(\"singular norm in xyz reconstruction\")\n",
      "/srv/public/kraemea88/coding/bgflow/bgflow/nn/flow/crd_transform/ic_helper.py:210: UserWarning: singular division in torsion computation\n",
      "  warnings.warn(\"singular division in torsion computation\")\n"
     ]
    },
    {
     "name": "stdout",
     "output_type": "stream",
     "text": [
      "Effective Sample Size:  0.99224454164505\n"
     ]
    },
    {
     "data": {
      "image/png": "[encoded data removed]",
      "text/plain": [
       "<Figure size 432x216 with 3 Axes>"
      ]
     },
     "metadata": {
      "needs_background": "light"
     },
     "output_type": "display_data"
    }
   ],
   "source": [
    "if main:\n",
    "    \n",
    "    n_samples = 10000\n",
    "    samples = generator.sample(n_samples)\n",
    "\n",
    "    fig, axes = plt.subplots(1, 2, figsize=(6,3))\n",
    "    fig.tight_layout()\n",
    "\n",
    "    basic.plot_phi_psi(axes[0], samples, basic.system)\n",
    "    basic.plot_energies(axes[1], samples, basic.target_energy, basic.test_data)\n",
    "\n",
    "    logw = generator.log_weights(samples)\n",
    "    w = torch.exp(logw)\n",
    "    print(\"Effective Sample Size: \", ((w**2).sum()/w.sum()**2).item())#/len(samples))\n",
    "    del samples"
   ]
  },
  {
   "cell_type": "code",
   "execution_count": null,
   "id": "6b21cc31",
   "metadata": {},
   "outputs": [],
   "source": []
  },
  {
   "cell_type": "code",
   "execution_count": null,
   "id": "7c82ff74",
   "metadata": {},
   "outputs": [],
   "source": []
  }
 ],
 "metadata": {
  "kernelspec": {
   "display_name": "Python 3",
   "language": "python",
   "name": "python3"
  },
  "language_info": {
   "codemirror_mode": {
    "name": "ipython",
    "version": 3
   },
   "file_extension": ".py",
   "mimetype": "text/x-python",
   "name": "python",
   "nbconvert_exporter": "python",
   "pygments_lexer": "ipython3",
   "version": "3.9.4"
  }
 },
 "nbformat": 4,
 "nbformat_minor": 5
}
