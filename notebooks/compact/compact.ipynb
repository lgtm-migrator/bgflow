{
 "cells": [
  {
   "cell_type": "code",
   "execution_count": 1,
   "metadata": {},
   "outputs": [],
   "source": [
    "%load_ext autoreload\n",
    "%autoreload 2"
   ]
  },
  {
   "cell_type": "code",
   "execution_count": 2,
   "metadata": {},
   "outputs": [],
   "source": [
    "import numpy as np\n",
    "import torch\n",
    "import matplotlib.pyplot as plt"
   ]
  },
  {
   "cell_type": "code",
   "execution_count": 3,
   "metadata": {},
   "outputs": [],
   "source": [
    "import os\n",
    "import sys\n",
    "module_path = os.path.abspath(os.path.join('..'))\n",
    "if module_path not in sys.path:\n",
    "    sys.path.append(module_path)"
   ]
  },
  {
   "cell_type": "markdown",
   "metadata": {},
   "source": [
    "#### Some helper"
   ]
  },
  {
   "cell_type": "code",
   "execution_count": 4,
   "metadata": {},
   "outputs": [],
   "source": [
    "from bgflow import (\n",
    "    DenseNet,\n",
    "    \n",
    "    WrapCDFTransformerWithInverse,\n",
    "    GridInversion,\n",
    "    AffineSigmoidComponentInitGrid,\n",
    "    \n",
    "    MixtureCDFTransformer,\n",
    "    AffineSigmoidComponents,    \n",
    "    \n",
    "    SmoothRamp,\n",
    "    BisectionRootFinder,\n",
    "    \n",
    "    ConstrainedBoundaryCDFTransformer,\n",
    "    \n",
    "    SequentialFlow,\n",
    "    CouplingFlow,\n",
    "    SplitFlow,\n",
    "    InverseFlow,\n",
    "    SwapFlow\n",
    ")\n",
    "    \n",
    "from toy_data.toy_data import dataset_names, inf_train_gen\n",
    "\n",
    "from matplotlib.colors import LogNorm\n",
    "\n",
    "\n",
    "def plot_transformer_density(transformer, label, grid_size=100):\n",
    "    with torch.enable_grad():\n",
    "        ys = torch.linspace(0, 1, 100).view(-1, 1).requires_grad_(True)\n",
    "        xs = torch.zeros_like(ys)\n",
    "        ys_, dlogp_ = transformer(xs, ys)\n",
    "        computed_density = dlogp_.exp()\n",
    "        ad_density = torch.autograd.grad(ys_.sum(), ys, create_graph=True)[0]\n",
    "        \n",
    "        plt.figure(figsize=(10, 3))\n",
    "        plt.title(label)\n",
    "        plt.plot(ys.detach(), ys_.detach(), label=\"cdf\")\n",
    "        plt.plot(ys.detach(), computed_density.detach(), alpha=0.5, label=\"computed pdf\")\n",
    "        plt.plot(ys.detach(), ad_density.detach(), linestyle=\"--\", label=\"AD pdf\")\n",
    "        plt.legend()\n",
    "        \n",
    "\n",
    "def make_transformer(\n",
    "    d_in,\n",
    "    d_out,\n",
    "    d_hidden,\n",
    "    n_components,\n",
    "    periodic=False,\n",
    "    zero_boundary_left=False,\n",
    "    zero_boundary_right=False,\n",
    "    activation=torch.nn.SiLU(),\n",
    "    smoothness_type=\"type1\",\n",
    "    init_weight=1.\n",
    "):\n",
    "    return WrapCDFTransformerWithInverse(\n",
    "        transformer=(\n",
    "            t:=MixtureCDFTransformer(\n",
    "                compute_weights=DenseNet([d_in, d_hidden, d_hidden, d_out * n_components], activation),\n",
    "                compute_components=AffineSigmoidComponents(\n",
    "                    conditional_ramp=SmoothRamp(\n",
    "                        compute_alpha=DenseNet([d_in, d_hidden, d_hidden, d_out * n_components], activation),\n",
    "                        unimodal=True,\n",
    "                        ramp_type=smoothness_type\n",
    "                    ),\n",
    "                    compute_params=DenseNet([d_in, d_hidden, d_hidden, d_out * (3 * n_components)], activation, weight_scale=init_weight),\n",
    "                    min_density=torch.tensor(1e-4),\n",
    "                    periodic=periodic,\n",
    "                    zero_boundary_left=zero_boundary_left,\n",
    "                    zero_boundary_right=zero_boundary_right\n",
    "\n",
    "                ),\n",
    "            )\n",
    "        ),\n",
    "        oracle=GridInversion(\n",
    "            transformer=t,\n",
    "            compute_init_grid=AffineSigmoidComponentInitGrid(\n",
    "                t._compute_components\n",
    "            ),\n",
    "            verbose=True\n",
    "        )\n",
    "    )\n",
    "\n",
    "\n",
    "def make_constrained_transformer(transformer, left_bound=None, right_bound=None,  smoothness_type=\"type1\"):\n",
    "    def compute_constraints(x):\n",
    "        bounds = []\n",
    "        if left_bound is not None:\n",
    "            bounds.append(torch.tensor([left_bound]).log().expand_as(x))\n",
    "        if right_bound is not None:\n",
    "            bounds.append(torch.tensor([right_bound]).log().expand_as(x))\n",
    "        return torch.stack(bounds, dim=-1)\n",
    "    \n",
    "    return ConstrainedBoundaryCDFTransformer(\n",
    "        transformer=transformer,\n",
    "        compute_constraints=compute_constraints,\n",
    "        left_constraint=left_bound is not None,\n",
    "        right_constraint=right_bound is not None,\n",
    "        smoothness_type=smoothness_type\n",
    "    )\n",
    "\n",
    "\n",
    "def make_coupling_flow(transformer_factory):    \n",
    "    return SequentialFlow([\n",
    "        SplitFlow(1),\n",
    "        CouplingFlow(transformer_factory()),\n",
    "        SwapFlow(),\n",
    "        CouplingFlow(transformer_factory()),\n",
    "        SwapFlow(),\n",
    "        CouplingFlow(transformer_factory()),\n",
    "        SwapFlow(),\n",
    "        CouplingFlow(transformer_factory()),\n",
    "        SwapFlow(),\n",
    "        InverseFlow(SplitFlow(1))\n",
    "    ])\n",
    "\n",
    "def train(flow, dataset=\"pinwheel\", train_with_inverse=False, batch_size=1_000, learning_rate=1e-3, n_iters=1_000, print_interval=100):\n",
    "    optim = torch.optim.Adam(flow.parameters(), lr=learning_rate)\n",
    "    for it in range(n_iters):\n",
    "        x = (inf_train_gen(dataset, batch_size=batch_size) + 4) / 8\n",
    "        x = torch.FloatTensor(x) % 1    \n",
    "        y, dlogp = flow(x, inverse=train_with_inverse)    \n",
    "        nll = -dlogp.mean()    \n",
    "        optim.zero_grad()\n",
    "        nll.backward()\n",
    "        optim.step()\n",
    "        if not it % print_interval:            \n",
    "            print(f\"it: {it}/{n_iters}, nll: {nll.item():.4}\", end=\"\\r\")\n",
    "            \n",
    "\n",
    "            \n",
    "def plot_evaluation(flow, dataset=\"pinwheel\", train_with_inverse=False, n_samples=100_000, norm=\"log\"):\n",
    "    \n",
    "    print(\"Computing energy plot...\")\n",
    "    with torch.no_grad():\n",
    "        xs = torch.meshgrid(\n",
    "            torch.linspace(0, 1, 100),\n",
    "            torch.linspace(0, 1, 100)\n",
    "        )\n",
    "        xs = torch.stack(xs, dim=-1).view(-1, 2)\n",
    "        ys, dlogp = flow(xs, inverse=train_with_inverse)\n",
    "        u = -dlogp\n",
    "        u = u.view(100, 100)\n",
    "        \n",
    "        \n",
    "    if norm == \"log\":\n",
    "        norm = LogNorm()\n",
    "    else:\n",
    "        norm = None\n",
    "    plt.figure(figsize=(8, 8))\n",
    "    plt.title(\"Energy\")\n",
    "    plt.imshow((-u).exp().detach(), norm=norm)\n",
    "    \n",
    "    print(\"Sampling ground truth...\")\n",
    "    if norm == \"log\":\n",
    "        norm = LogNorm()\n",
    "    else:\n",
    "        norm = None\n",
    "    x = (inf_train_gen(dataset, batch_size=n_samples) + 4) / 8\n",
    "    x = torch.FloatTensor(x) % 1\n",
    "    plt.figure(figsize=(8, 8))\n",
    "    plt.title(\"Ground truth samples\")\n",
    "    plt.hist2d(*x.detach().numpy().T, bins=100, density=True, norm=norm, range=((0, 1), (0, 1)));\n",
    "    \n",
    "    print(\"Sampling model...\")\n",
    "    if norm == \"log\":\n",
    "        norm = LogNorm()\n",
    "    else:\n",
    "        norm = None\n",
    "    with torch.no_grad():\n",
    "        z = torch.rand(n_samples, 2)\n",
    "        x, _ = flow(z, inverse=not train_with_inverse)\n",
    "    plt.figure(figsize=(8, 8))\n",
    "    plt.title(\"Flow samples\")\n",
    "    plt.hist2d(*x.detach().numpy().T, bins=100, density=True, norm=norm, range=((0, 1), (0, 1)));"
   ]
  },
  {
   "cell_type": "markdown",
   "metadata": {},
   "source": [
    "## How to create compact transformers"
   ]
  },
  {
   "cell_type": "code",
   "execution_count": 5,
   "metadata": {},
   "outputs": [
    {
     "ename": "NameError",
     "evalue": "name 'NewtonGridInversion' is not defined",
     "output_type": "error",
     "traceback": [
      "\u001b[0;31m---------------------------------------------------------------------------\u001b[0m",
      "\u001b[0;31mNameError\u001b[0m                                 Traceback (most recent call last)",
      "\u001b[0;32m<ipython-input-5-b30a50970aeb>\u001b[0m in \u001b[0;36m<module>\u001b[0;34m\u001b[0m\n\u001b[1;32m      1\u001b[0m plot_transformer_density(\n\u001b[0;32m----> 2\u001b[0;31m     \u001b[0mmake_transformer\u001b[0m\u001b[0;34m(\u001b[0m\u001b[0md_in\u001b[0m\u001b[0;34m=\u001b[0m\u001b[0;36m1\u001b[0m\u001b[0;34m,\u001b[0m \u001b[0md_out\u001b[0m\u001b[0;34m=\u001b[0m\u001b[0;36m1\u001b[0m\u001b[0;34m,\u001b[0m \u001b[0md_hidden\u001b[0m\u001b[0;34m=\u001b[0m\u001b[0;36m40\u001b[0m\u001b[0;34m,\u001b[0m \u001b[0mn_components\u001b[0m\u001b[0;34m=\u001b[0m\u001b[0;36m4\u001b[0m\u001b[0;34m,\u001b[0m \u001b[0mperiodic\u001b[0m\u001b[0;34m=\u001b[0m\u001b[0;32mFalse\u001b[0m\u001b[0;34m,\u001b[0m \u001b[0mzero_boundary_left\u001b[0m\u001b[0;34m=\u001b[0m\u001b[0;32mFalse\u001b[0m\u001b[0;34m,\u001b[0m \u001b[0mzero_boundary_right\u001b[0m\u001b[0;34m=\u001b[0m\u001b[0;32mFalse\u001b[0m\u001b[0;34m)\u001b[0m\u001b[0;34m,\u001b[0m\u001b[0;34m\u001b[0m\u001b[0;34m\u001b[0m\u001b[0m\n\u001b[0m\u001b[1;32m      3\u001b[0m     \u001b[0mlabel\u001b[0m\u001b[0;34m=\u001b[0m\u001b[0;34m\"no constraints, non-periodic\"\u001b[0m\u001b[0;34m\u001b[0m\u001b[0;34m\u001b[0m\u001b[0m\n\u001b[1;32m      4\u001b[0m )\n\u001b[1;32m      5\u001b[0m \u001b[0;34m\u001b[0m\u001b[0m\n",
      "\u001b[0;32m<ipython-input-4-627852aff863>\u001b[0m in \u001b[0;36mmake_transformer\u001b[0;34m(d_in, d_out, d_hidden, n_components, periodic, zero_boundary_left, zero_boundary_right, activation, smoothness_type, init_weight)\u001b[0m\n\u001b[1;32m     73\u001b[0m             )\n\u001b[1;32m     74\u001b[0m         ),\n\u001b[0;32m---> 75\u001b[0;31m         oracle=NewtonGridInversion(\n\u001b[0m\u001b[1;32m     76\u001b[0m             \u001b[0mtransformer\u001b[0m\u001b[0;34m=\u001b[0m\u001b[0mt\u001b[0m\u001b[0;34m,\u001b[0m\u001b[0;34m\u001b[0m\u001b[0;34m\u001b[0m\u001b[0m\n\u001b[1;32m     77\u001b[0m             compute_init_grid=AffineSigmoidComponentInitGrid(\n",
      "\u001b[0;31mNameError\u001b[0m: name 'NewtonGridInversion' is not defined"
     ]
    }
   ],
   "source": [
    "plot_transformer_density(\n",
    "    make_transformer(d_in=1, d_out=1, d_hidden=40, n_components=4, periodic=False, zero_boundary_left=False, zero_boundary_right=False),\n",
    "    label=\"no constraints, non-periodic\"\n",
    ")\n",
    "\n",
    "plot_transformer_density(\n",
    "    make_transformer(d_in=1, d_out=1, d_hidden=40, n_components=4, periodic=True, zero_boundary_left=False, zero_boundary_right=False),\n",
    "    label=\"no constraints, periodic\"\n",
    ")"
   ]
  },
  {
   "cell_type": "markdown",
   "metadata": {},
   "source": [
    "## Zero density constraint at boundary"
   ]
  },
  {
   "cell_type": "code",
   "execution_count": null,
   "metadata": {},
   "outputs": [],
   "source": [
    "plot_transformer_density(\n",
    "    make_transformer(d_in=1, d_out=1, d_hidden=40, n_components=4, periodic=False, zero_boundary_left=True, zero_boundary_right=False),\n",
    "    label=\"left boundary is zero\"\n",
    ")\n",
    "\n",
    "plot_transformer_density(\n",
    "    make_transformer(d_in=1, d_out=1, d_hidden=40, n_components=4, periodic=False, zero_boundary_left=False, zero_boundary_right=True),\n",
    "    label=\"right boundary is zero\"\n",
    ")\n",
    "\n",
    "plot_transformer_density(\n",
    "    make_transformer(d_in=1, d_out=1, d_hidden=40, n_components=4, periodic=False, zero_boundary_left=True, zero_boundary_right=True),\n",
    "    label=\"both boundaries are zero\"\n",
    ")"
   ]
  },
  {
   "cell_type": "markdown",
   "metadata": {},
   "source": [
    "## Value constraint at boundary"
   ]
  },
  {
   "cell_type": "code",
   "execution_count": null,
   "metadata": {},
   "outputs": [],
   "source": [
    "plot_transformer_density(\n",
    "    make_constrained_transformer(\n",
    "        make_transformer(d_in=1, d_out=1, d_hidden=40, n_components=4, periodic=False, zero_boundary_left=True, zero_boundary_right=False),\n",
    "        left_bound=5\n",
    "    ),\n",
    "    label=\"left boundary = 5\"\n",
    ")"
   ]
  },
  {
   "cell_type": "code",
   "execution_count": null,
   "metadata": {},
   "outputs": [],
   "source": [
    "plot_transformer_density(\n",
    "    make_constrained_transformer(\n",
    "        make_transformer(d_in=1, d_out=1, d_hidden=40, n_components=4, periodic=False, zero_boundary_left=False, zero_boundary_right=True),\n",
    "        right_bound=5\n",
    "    ),\n",
    "    label=\"right boundary = 5\"\n",
    ")"
   ]
  },
  {
   "cell_type": "code",
   "execution_count": null,
   "metadata": {},
   "outputs": [],
   "source": [
    "plot_transformer_density(\n",
    "    make_constrained_transformer(\n",
    "        make_transformer(d_in=1, d_out=1, d_hidden=40, n_components=4, periodic=False, zero_boundary_left=True, zero_boundary_right=True, smoothness_type=\"type1\"),\n",
    "        left_bound=3,\n",
    "        right_bound=5,\n",
    "        smoothness_type=\"type1\"\n",
    "    ),\n",
    "    label=\"left boundary =3, right boundary = 5\"\n",
    ")"
   ]
  },
  {
   "cell_type": "markdown",
   "metadata": {},
   "source": [
    "## Density Estimation Example"
   ]
  },
  {
   "cell_type": "code",
   "execution_count": null,
   "metadata": {},
   "outputs": [],
   "source": [
    "from functools import partial\n",
    "\n",
    "flow = make_coupling_flow(partial(make_transformer, d_in=1, d_out=1, d_hidden=200, n_components=20, periodic=False))"
   ]
  },
  {
   "cell_type": "code",
   "execution_count": null,
   "metadata": {},
   "outputs": [],
   "source": [
    "train(flow)"
   ]
  },
  {
   "cell_type": "code",
   "execution_count": null,
   "metadata": {},
   "outputs": [],
   "source": [
    "plot_evaluation(flow)"
   ]
  }
 ],
 "metadata": {
  "kernelspec": {
   "display_name": "Python 3",
   "language": "python",
   "name": "python3"
  },
  "language_info": {
   "codemirror_mode": {
    "name": "ipython",
    "version": 3
   },
   "file_extension": ".py",
   "mimetype": "text/x-python",
   "name": "python",
   "nbconvert_exporter": "python",
   "pygments_lexer": "ipython3",
   "version": "3.8.5"
  }
 },
 "nbformat": 4,
 "nbformat_minor": 4
}
